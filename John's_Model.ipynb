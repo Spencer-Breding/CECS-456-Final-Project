{
  "cells": [
    {
      "cell_type": "code",
      "source": [
        "## John's CNN for Chest X-rays"
      ],
      "metadata": {
        "id": "59-EBReuf6rj"
      },
      "execution_count": null,
      "outputs": []
    },
    {
      "cell_type": "code",
      "execution_count": null,
      "metadata": {
        "id": "eXv7Z4HD9kj8"
      },
      "outputs": [],
      "source": [
        "from google.colab import drive\n",
        "drive.mount('/content/gdrive')"
      ]
    },
    {
      "cell_type": "code",
      "execution_count": null,
      "metadata": {
        "id": "tRRO8mHyJH05"
      },
      "outputs": [],
      "source": [
        "!unzip gdrive/MyDrive/chest_xray.zip"
      ]
    },
    {
      "cell_type": "code",
      "execution_count": null,
      "metadata": {
        "id": "LFPhGZaFKkbY"
      },
      "outputs": [],
      "source": [
        "import tensorflow as tf\n",
        "from tensorflow import keras\n",
        "import tensorflow.keras as tfk\n",
        "import sklearn\n",
        "import numpy as np\n",
        "np.random.seed(10)\n",
        "import matplotlib as mpl\n",
        "import matplotlib.pyplot as plt\n",
        "import pandas as pd\n",
        "import os\n",
        "import cv2\n",
        "import pathlib\n",
        "import PIL\n",
        "import glob as gb\n",
        "import os\n",
        "import warnings\n",
        "warnings.filterwarnings('ignore')"
      ]
    },
    {
      "cell_type": "code",
      "execution_count": null,
      "metadata": {
        "id": "fwcXFHloJcYb"
      },
      "outputs": [],
      "source": [
        "### Code by John Bower is only the CNN model, noted in comments above code section. \n",
        "\n",
        "### Following code credit to: Haasha Bin Atif\n",
        "# Research Assistant at CBRLab, FAST-NUCES\n",
        "# Islamabad, Islamabad Capital Territory, Pakistan\n",
        "# http://cbrlab.org/index.html\n",
        "### Following code from: https://www.kaggle.com/code/haashaatif/day-4-deep-learning-in-medical\n",
        "### Code used for loading and preprocesing data. "
      ]
    },
    {
      "cell_type": "code",
      "execution_count": null,
      "metadata": {
        "id": "Kkt_ZnNF8oyd"
      },
      "outputs": [],
      "source": [
        "#Function which can create csv's for the given dataset\n",
        "def create_csv(base_path,csv_name):\n",
        "    paths = [\"NORMAL\",\"PNEUMONIA\"]\n",
        "    with open(csv_name,'w') as file:\n",
        "        file.write(\",\".join([\"path\",\"class\"])+\"\\n\")\n",
        "        for idx,path in enumerate(paths):\n",
        "            temp = np.array(os.listdir(os.path.join(base_path,path)))\n",
        "            for image in temp:\n",
        "                file.write(\",\".join([os.path.join(base_path,path,image),str(idx)])+\"\\n\")\n",
        "                \n",
        "create_csv(\"/content/chest_xray/train\",\"train.csv\")\n",
        "create_csv(\"/content/chest_xray/val\",\"val.csv\")\n",
        "create_csv(\"/content/chest_xray/test\",\"test.csv\")"
      ]
    },
    {
      "cell_type": "code",
      "execution_count": null,
      "metadata": {
        "id": "oOoWqGsC8_ZV"
      },
      "outputs": [],
      "source": [
        "train_df = pd.read_csv(\"./train.csv\")\n",
        "train_x, train_y = np.array(train_df[\"path\"].values.tolist()),np.array(train_df[\"class\"].values.tolist())\n",
        "\n",
        "\n",
        "val_df = pd.read_csv(\"./val.csv\")\n",
        "val_x, val_y = np.array(val_df[\"path\"].values.tolist()),np.array(val_df[\"class\"].values.tolist())\n",
        "\n",
        "test_df = pd.read_csv(\"./test.csv\")\n",
        "test_x, test_y = np.array(test_df[\"path\"].values.tolist()),np.array(test_df[\"class\"].values.tolist())"
      ]
    },
    {
      "cell_type": "code",
      "execution_count": null,
      "metadata": {
        "colab": {
          "base_uri": "https://localhost:8080/",
          "height": 844
        },
        "id": "SEIy3Cz69A59",
        "outputId": "4f6db542-fe9d-4884-c05a-b19fd02ffe79"
      },
      "outputs": [
        {
          "data": {
            "text/plain": [
              "array([[<matplotlib.axes._subplots.AxesSubplot object at 0x7f2c4afc3990>]],\n",
              "      dtype=object)"
            ]
          },
          "execution_count": 84,
          "metadata": {},
          "output_type": "execute_result"
        },
        {
          "data": {
            "image/png": "[encoded data removed]",
            "text/plain": [
              "<Figure size 432x288 with 1 Axes>"
            ]
          },
          "metadata": {},
          "output_type": "display_data"
        },
        {
          "data": {
            "image/png": "[encoded data removed]",
            "text/plain": [
              "<Figure size 432x288 with 1 Axes>"
            ]
          },
          "metadata": {},
          "output_type": "display_data"
        },
        {
          "data": {
            "image/png": "[encoded data removed]",
            "text/plain": [
              "<Figure size 432x288 with 1 Axes>"
            ]
          },
          "metadata": {},
          "output_type": "display_data"
        }
      ],
      "source": [
        "train_df.hist()\n",
        "val_df.hist()\n",
        "test_df.hist()"
      ]
    },
    {
      "cell_type": "code",
      "execution_count": null,
      "metadata": {
        "id": "1BR3e6QZ9YAQ"
      },
      "outputs": [],
      "source": [
        "image_generator = tf.keras.preprocessing.image.ImageDataGenerator(\n",
        "    rotation_range=20,\n",
        "    horizontal_flip=True,\n",
        "    samplewise_center=True,\n",
        "    samplewise_std_normalization=True\n",
        ")"
      ]
    },
    {
      "cell_type": "code",
      "execution_count": null,
      "metadata": {
        "id": "kigwkv5G9a1y"
      },
      "outputs": [],
      "source": [
        "## Image size changed by John Bower\n",
        "IMAGE_SIZE = 128\n",
        "##"
      ]
    },
    {
      "cell_type": "code",
      "execution_count": null,
      "metadata": {
        "colab": {
          "base_uri": "https://localhost:8080/"
        },
        "id": "dp-cHzHo9d_4",
        "outputId": "c2d91c86-8ba0-42dd-9c8b-91f2cd92ccff"
      },
      "outputs": [
        {
          "name": "stdout",
          "output_type": "stream",
          "text": [
            "Found 5216 images belonging to 2 classes.\n"
          ]
        }
      ],
      "source": [
        "train = image_generator.flow_from_directory(\"/content/chest_xray/train\", \n",
        "                                            batch_size=16, \n",
        "                                            shuffle=True, \n",
        "                                            class_mode='binary',\n",
        "                                            target_size=(IMAGE_SIZE, IMAGE_SIZE))"
      ]
    },
    {
      "cell_type": "code",
      "execution_count": null,
      "metadata": {
        "colab": {
          "base_uri": "https://localhost:8080/"
        },
        "id": "bJrjGeKh90Jg",
        "outputId": "6974a444-b3cb-46f5-c172-cc9071b4ea8d"
      },
      "outputs": [
        {
          "name": "stdout",
          "output_type": "stream",
          "text": [
            "Found 16 images belonging to 2 classes.\n"
          ]
        }
      ],
      "source": [
        "validation = image_generator.flow_from_directory(\"/content/chest_xray/val\", \n",
        "                                                batch_size=2, \n",
        "                                                shuffle=False, \n",
        "                                                class_mode='binary',\n",
        "                                                target_size=(IMAGE_SIZE, IMAGE_SIZE))"
      ]
    },
    {
      "cell_type": "code",
      "execution_count": null,
      "metadata": {
        "colab": {
          "base_uri": "https://localhost:8080/"
        },
        "id": "Mq0o1zw59-8m",
        "outputId": "18ef0358-0510-4879-ff17-b13dd2143cbf"
      },
      "outputs": [
        {
          "name": "stdout",
          "output_type": "stream",
          "text": [
            "Found 624 images belonging to 2 classes.\n"
          ]
        }
      ],
      "source": [
        "test = image_generator.flow_from_directory(\"/content/chest_xray/test\", \n",
        "                                            batch_size=16, \n",
        "                                            shuffle=False, \n",
        "                                            class_mode='binary',\n",
        "                                            target_size=(IMAGE_SIZE, IMAGE_SIZE))"
      ]
    },
    {
      "cell_type": "code",
      "execution_count": null,
      "metadata": {
        "id": "Z7CSCOO3-Fhs"
      },
      "outputs": [],
      "source": [
        "class XRayGenerator(tf.keras.utils.Sequence):\n",
        "    def __init__(self,X,Y,batch_size=10,shuffle=True,transform=None,return_labels = True):\n",
        "        self.X = X\n",
        "        self.Y = Y\n",
        "        self.transform = transform\n",
        "        self.batch_size = batch_size\n",
        "        self.shuffle = shuffle\n",
        "        self.return_labels = return_labels\n",
        "        self.length = len(Y)\n",
        "        self.indices = np.arange(0,self.length)\n",
        "        self.on_epoch_end()\n",
        "\n",
        "    def generateBatches(self):\n",
        "        self.X_ = self.X[self.indices]\n",
        "        self.Y_ = self.Y[self.indices]\n",
        "        \n",
        "    def on_epoch_end(self):\n",
        "        if self.shuffle:\n",
        "            np.random.shuffle(self.indices)\n",
        "        self.generateBatches()\n",
        "    \n",
        "    def __get_input(self, path):\n",
        "        image = tfk.preprocessing.image.load_img(path)\n",
        "        image_arr = tfk.preprocessing.image.img_to_array(image)\n",
        "        if self.transform:\n",
        "            image_arr = self.transform(image_arr)\n",
        "        return image_arr\n",
        "    \n",
        "    def __get_output(self, label, num_classes):\n",
        "        \n",
        "        return tfk.utils.to_categorical(label, num_classes=num_classes)\n",
        "\n",
        "    def __getitem__(self,index):\n",
        "        paths_x = self.X_[index*self.batch_size:(index+1)*self.batch_size]\n",
        "        images = np.asarray([self.__get_input(image_path) for image_path in paths_x])\n",
        "        #labels = self.__get_output(self.Y_[index*self.batch_size:(index+1)*self.batch_size],2)\n",
        "        labels = self.Y_[index*self.batch_size:(index+1)*self.batch_size]\n",
        "        if self.return_labels:\n",
        "            return images,labels\n",
        "        return images\n",
        "\n",
        "    def __len__(self):\n",
        "        return self.length//self.batch_size"
      ]
    },
    {
      "cell_type": "code",
      "execution_count": null,
      "metadata": {
        "id": "6XC481zk-ev5"
      },
      "outputs": [],
      "source": [
        "IMAGE_SIZE = 128\n",
        "train_transform = tf.keras.Sequential([\n",
        "                                        tf.keras.layers.Resizing(IMAGE_SIZE, IMAGE_SIZE),\n",
        "                                        tf.keras.layers.RandomFlip(\"horizontal\"),\n",
        "                                        tf.keras.layers.RandomContrast(factor=(0.0,0.1)),\n",
        "                                        tf.keras.layers.Rescaling(1./255),\n",
        "                                ])\n",
        "test_transform = tf.keras.Sequential([\n",
        "                                        tf.keras.layers.Resizing(IMAGE_SIZE, IMAGE_SIZE),\n",
        "                                        tf.keras.layers.Rescaling(1./255),\n",
        "                                ])\n",
        "train_loader = XRayGenerator(train_x,train_y,batch_size=8,shuffle=True,transform=train_transform,return_labels = True)\n",
        "val_loader = XRayGenerator(val_x,val_y,batch_size=2,shuffle=True,transform=test_transform, return_labels = True)\n",
        "test_loader = XRayGenerator(test_x,test_y,batch_size=8,shuffle=False,transform=test_transform, return_labels = True)"
      ]
    },
    {
      "cell_type": "code",
      "execution_count": null,
      "metadata": {
        "colab": {
          "base_uri": "https://localhost:8080/",
          "height": 285
        },
        "id": "R99lStS_-2hc",
        "outputId": "33ebdc2b-7bf3-4381-b368-b9328ad53762"
      },
      "outputs": [
        {
          "data": {
            "text/plain": [
              "<matplotlib.image.AxesImage at 0x7f2c4a6cd210>"
            ]
          },
          "execution_count": 93,
          "metadata": {},
          "output_type": "execute_result"
        },
        {
          "data": {
            "image/png": "[encoded data removed]",
            "text/plain": [
              "<Figure size 432x288 with 1 Axes>"
            ]
          },
          "metadata": {},
          "output_type": "display_data"
        }
      ],
      "source": [
        "batch = next(iter(train_loader))\n",
        "plt.imshow(batch[0][1])"
      ]
    },
    {
      "cell_type": "code",
      "execution_count": null,
      "metadata": {
        "id": "E1nah_MDJTIA"
      },
      "outputs": [],
      "source": [
        "### My Code begins below here!!!!\n",
        "# CNN Model designed by John Bower"
      ]
    },
    {
      "cell_type": "code",
      "execution_count": null,
      "metadata": {
        "id": "jHq6zxxfDc6v"
      },
      "outputs": [],
      "source": [
        "model = tfk.models.Sequential()\n",
        "model.add(tfk.layers.Conv2D(16, (3,3), strides=1, padding='same', activation='relu', input_shape=(IMAGE_SIZE, IMAGE_SIZE, 3)))\n",
        "model.add(tfk.layers.BatchNormalization())\n",
        "model.add(tfk.layers.MaxPool2D((2,2), strides=1, padding='same'))\n",
        "model.add(tfk.layers.Conv2D(32,(3,3), strides =1, padding='same'))\n",
        "model.add(tfk.layers.Dropout(0.6))\n",
        "model.add(tfk.layers.BatchNormalization())\n",
        "model.add(tfk.layers.MaxPool2D((2,2), strides=1, padding='same'))\n",
        "model.add(tf.keras.layers.Flatten(input_shape=[IMAGE_SIZE,IMAGE_SIZE]))\n",
        "model.add(tf.keras.layers.Dense(units = 10, activation=\"relu\"))\n",
        "model.add(tf.keras.layers.Dense(units=5, activation=\"relu\"))\n",
        "model.add(tf.keras.layers.Dense(units=2, activation=\"softmax\"))"
      ]
    },
    {
      "cell_type": "code",
      "execution_count": null,
      "metadata": {
        "colab": {
          "base_uri": "https://localhost:8080/"
        },
        "id": "mSmFcrsjIQgm",
        "outputId": "d6d63474-f963-47ad-bf2f-310b655f30ee"
      },
      "outputs": [
        {
          "name": "stdout",
          "output_type": "stream",
          "text": [
            "Model: \"sequential_20\"\n",
            "_________________________________________________________________\n",
            " Layer (type)                Output Shape              Param #   \n",
            "=================================================================\n",
            " conv2d_31 (Conv2D)          (None, 128, 128, 16)      448       \n",
            "                                                                 \n",
            " batch_normalization_28 (Bat  (None, 128, 128, 16)     64        \n",
            " chNormalization)                                                \n",
            "                                                                 \n",
            " max_pooling2d_25 (MaxPoolin  (None, 128, 128, 16)     0         \n",
            " g2D)                                                            \n",
            "                                                                 \n",
            " conv2d_32 (Conv2D)          (None, 128, 128, 32)      4640      \n",
            "                                                                 \n",
            " dropout_10 (Dropout)        (None, 128, 128, 32)      0         \n",
            "                                                                 \n",
            " batch_normalization_29 (Bat  (None, 128, 128, 32)     128       \n",
            " chNormalization)                                                \n",
            "                                                                 \n",
            " max_pooling2d_26 (MaxPoolin  (None, 128, 128, 32)     0         \n",
            " g2D)                                                            \n",
            "                                                                 \n",
            " flatten_9 (Flatten)         (None, 524288)            0         \n",
            "                                                                 \n",
            " dense_19 (Dense)            (None, 10)                5242890   \n",
            "                                                                 \n",
            " dense_20 (Dense)            (None, 5)                 55        \n",
            "                                                                 \n",
            " dense_21 (Dense)            (None, 2)                 12        \n",
            "                                                                 \n",
            "=================================================================\n",
            "Total params: 5,248,237\n",
            "Trainable params: 5,248,141\n",
            "Non-trainable params: 96\n",
            "_________________________________________________________________\n"
          ]
        }
      ],
      "source": [
        "model.summary()"
      ]
    },
    {
      "cell_type": "code",
      "execution_count": null,
      "metadata": {
        "id": "U2Dfs2_TJPD2"
      },
      "outputs": [],
      "source": [
        "model.compile(loss='sparse_categorical_crossentropy', optimizer='adam', metrics=['accuracy'])"
      ]
    },
    {
      "cell_type": "code",
      "execution_count": null,
      "metadata": {
        "colab": {
          "background_save": true,
          "base_uri": "https://localhost:8080/"
        },
        "id": "80chAdpHKaOj",
        "outputId": "28bcd71e-5b02-4dbc-add5-c9b92d947482"
      },
      "outputs": [
        {
          "name": "stdout",
          "output_type": "stream",
          "text": [
            "Epoch 1/30\n",
            "326/326 [==============================] - 71s 192ms/step - loss: 0.9267 - accuracy: 0.7212 - val_loss: 0.7194 - val_accuracy: 0.5000\n",
            "Epoch 2/30\n",
            "326/326 [==============================] - 62s 191ms/step - loss: 0.5903 - accuracy: 0.7429 - val_loss: 0.7638 - val_accuracy: 0.5000\n",
            "Epoch 3/30\n",
            "326/326 [==============================] - 62s 191ms/step - loss: 0.5744 - accuracy: 0.7429 - val_loss: 0.7982 - val_accuracy: 0.5000\n",
            "Epoch 4/30\n",
            "326/326 [==============================] - 62s 190ms/step - loss: 0.5708 - accuracy: 0.7429 - val_loss: 0.8163 - val_accuracy: 0.5000\n",
            "Epoch 5/30\n",
            "326/326 [==============================] - 62s 190ms/step - loss: 0.5702 - accuracy: 0.7429 - val_loss: 0.8225 - val_accuracy: 0.5000\n",
            "Epoch 6/30\n",
            "326/326 [==============================] - 62s 191ms/step - loss: 0.5701 - accuracy: 0.7429 - val_loss: 0.8271 - val_accuracy: 0.5000\n",
            "Epoch 7/30\n",
            "326/326 [==============================] - 63s 192ms/step - loss: 0.5701 - accuracy: 0.7429 - val_loss: 0.8266 - val_accuracy: 0.5000\n",
            "Epoch 8/30\n",
            "326/326 [==============================] - 62s 192ms/step - loss: 0.5701 - accuracy: 0.7429 - val_loss: 0.8260 - val_accuracy: 0.5000\n",
            "Epoch 9/30\n",
            "326/326 [==============================] - 62s 191ms/step - loss: 0.5701 - accuracy: 0.7429 - val_loss: 0.8264 - val_accuracy: 0.5000\n",
            "Epoch 10/30\n",
            "326/326 [==============================] - 62s 191ms/step - loss: 0.5701 - accuracy: 0.7429 - val_loss: 0.8271 - val_accuracy: 0.5000\n",
            "Epoch 11/30\n",
            "326/326 [==============================] - 62s 191ms/step - loss: 0.5701 - accuracy: 0.7429 - val_loss: 0.8301 - val_accuracy: 0.5000\n",
            "Epoch 12/30\n",
            "326/326 [==============================] - 62s 191ms/step - loss: 0.5701 - accuracy: 0.7429 - val_loss: 0.8289 - val_accuracy: 0.5000\n",
            "Epoch 13/30\n",
            "326/326 [==============================] - 62s 190ms/step - loss: 0.5701 - accuracy: 0.7429 - val_loss: 0.8269 - val_accuracy: 0.5000\n",
            "Epoch 14/30\n",
            "326/326 [==============================] - 62s 190ms/step - loss: 0.5701 - accuracy: 0.7429 - val_loss: 0.8270 - val_accuracy: 0.5000\n",
            "Epoch 15/30\n",
            "326/326 [==============================] - 62s 190ms/step - loss: 0.5701 - accuracy: 0.7429 - val_loss: 0.8265 - val_accuracy: 0.5000\n",
            "Epoch 16/30\n",
            "326/326 [==============================] - 62s 191ms/step - loss: 0.5701 - accuracy: 0.7429 - val_loss: 0.8268 - val_accuracy: 0.5000\n",
            "Epoch 17/30\n",
            "326/326 [==============================] - 62s 191ms/step - loss: 0.5701 - accuracy: 0.7429 - val_loss: 0.8284 - val_accuracy: 0.5000\n",
            "Epoch 18/30\n",
            "326/326 [==============================] - 62s 191ms/step - loss: 0.5701 - accuracy: 0.7429 - val_loss: 0.8279 - val_accuracy: 0.5000\n",
            "Epoch 19/30\n",
            "326/326 [==============================] - 62s 191ms/step - loss: 0.5700 - accuracy: 0.7429 - val_loss: 0.8230 - val_accuracy: 0.5000\n",
            "Epoch 20/30\n",
            "326/326 [==============================] - 62s 190ms/step - loss: 0.5701 - accuracy: 0.7429 - val_loss: 0.8260 - val_accuracy: 0.5000\n",
            "Epoch 21/30\n",
            "326/326 [==============================] - 63s 192ms/step - loss: 0.5701 - accuracy: 0.7429 - val_loss: 0.8279 - val_accuracy: 0.5000\n",
            "Epoch 22/30\n",
            "326/326 [==============================] - 62s 191ms/step - loss: 0.5701 - accuracy: 0.7429 - val_loss: 0.8268 - val_accuracy: 0.5000\n",
            "Epoch 23/30\n",
            "326/326 [==============================] - 62s 191ms/step - loss: 0.5701 - accuracy: 0.7429 - val_loss: 0.8272 - val_accuracy: 0.5000\n",
            "Epoch 24/30\n",
            "326/326 [==============================] - 62s 191ms/step - loss: 0.5701 - accuracy: 0.7429 - val_loss: 0.8276 - val_accuracy: 0.5000\n",
            "Epoch 25/30\n",
            "326/326 [==============================] - 62s 191ms/step - loss: 0.5701 - accuracy: 0.7429 - val_loss: 0.8292 - val_accuracy: 0.5000\n",
            "Epoch 26/30\n",
            "326/326 [==============================] - 62s 191ms/step - loss: 0.5702 - accuracy: 0.7429 - val_loss: 0.8305 - val_accuracy: 0.5000\n",
            "Epoch 27/30\n",
            "326/326 [==============================] - 62s 191ms/step - loss: 0.5701 - accuracy: 0.7429 - val_loss: 0.8301 - val_accuracy: 0.5000\n",
            "Epoch 28/30\n",
            "326/326 [==============================] - 62s 191ms/step - loss: 0.5701 - accuracy: 0.7429 - val_loss: 0.8263 - val_accuracy: 0.5000\n",
            "Epoch 29/30\n",
            "326/326 [==============================] - 62s 190ms/step - loss: 0.5701 - accuracy: 0.7429 - val_loss: 0.8255 - val_accuracy: 0.5000\n",
            "Epoch 30/30\n",
            "326/326 [==============================] - 64s 196ms/step - loss: 0.5701 - accuracy: 0.7429 - val_loss: 0.8239 - val_accuracy: 0.5000\n"
          ]
        }
      ],
      "source": [
        "history = model.fit(train, batch_size=40, epochs=30, validation_data=validation)"
      ]
    }
  ],
  "metadata": {
    "accelerator": "GPU",
    "colab": {
      "collapsed_sections": [],
      "machine_shape": "hm",
      "name": "John_CNN_chestXRay.ipynb",
      "provenance": []
    },
    "kernelspec": {
      "display_name": "Python 3",
      "name": "python3"
    },
    "language_info": {
      "name": "python"
    }
  },
  "nbformat": 4,
  "nbformat_minor": 0
}
